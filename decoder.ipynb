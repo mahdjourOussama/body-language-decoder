{
 "cells": [
  {
   "attachments": {},
   "cell_type": "markdown",
   "metadata": {},
   "source": [
    "### import libraries"
   ]
  },
  {
   "cell_type": "code",
   "execution_count": 1,
   "metadata": {},
   "outputs": [],
   "source": [
    "from statistics import mode\n",
    "import numpy as np\n",
    "import cv2\n",
    "import mediapipe as mp\n",
    "import csv\n",
    "import os\n",
    "import pandas as pd"
   ]
  },
  {
   "attachments": {},
   "cell_type": "markdown",
   "metadata": {},
   "source": [
    "### setting up the video take"
   ]
  },
  {
   "cell_type": "code",
   "execution_count": 2,
   "metadata": {},
   "outputs": [
    {
     "data": {
      "text/plain": [
       "False"
      ]
     },
     "execution_count": 2,
     "metadata": {},
     "output_type": "execute_result"
    }
   ],
   "source": [
    "mp_drawing=mp.solutions.drawing_utils\n",
    "mp_holistic= mp.solutions.holistic\n",
    "#initiate drawing Spec\n",
    "hand=mp_drawing.DrawingSpec(color=(200,0,50),thickness=2,circle_radius=2)\n",
    "head=mp_drawing.DrawingSpec(color=(50,200,100),thickness=1,circle_radius=1)\n",
    "body=mp_drawing.DrawingSpec(color=(0,50,200),thickness=2,circle_radius=2)\n",
    "joins_connections=mp_drawing.DrawingSpec(color=(119,88,19),thickness=2,circle_radius=2)\n",
    "#openning and setting the webcam \n",
    "cap=cv2.VideoCapture(0)\n",
    "cap.set(3,640) #setting the width of the frame\n",
    "cap.set(4,800) #setting the height of the frame\n",
    "cap.set(10,800) #setting the brightnesse of the frame\n"
   ]
  },
  {
   "attachments": {},
   "cell_type": "markdown",
   "metadata": {},
   "source": [
    "### initiating the dataset"
   ]
  },
  {
   "cell_type": "code",
   "execution_count": 3,
   "metadata": {},
   "outputs": [],
   "source": [
    "#initiate holistic mediapipe\n",
    "with mp_holistic.Holistic(min_detection_confidence=0.6,min_tracking_confidence=0.6) as holistic:\n",
    "#live stream webcam feed\n",
    "    while cap.isOpened():\n",
    "\n",
    "        status,frame =cap.read() #capture the frame + status\n",
    "\n",
    "        # Recolor Feed to RGB\n",
    "        image=cv2.cvtColor(frame,cv2.COLOR_BGR2RGB)\n",
    "        image.flags.writeable = False\n",
    "\n",
    "        # Make detection\n",
    "        result=holistic.process(image)\n",
    "\n",
    "        # Recolor back to BRG\n",
    "        image.flags.writeable = True\n",
    "        image = cv2.cvtColor(image,cv2.COLOR_RGB2BGR)\n",
    "\n",
    "        #Drawing face landmark\n",
    "        mp_drawing.draw_landmarks(image,result.face_landmarks,mp_holistic.FACEMESH_TESSELATION,head,joins_connections)\n",
    "        #Drawing pose landmark\n",
    "        mp_drawing.draw_landmarks(image,result.pose_landmarks,mp_holistic.POSE_CONNECTIONS,body,joins_connections)\n",
    "        #Drawing right hand landmark\n",
    "        mp_drawing.draw_landmarks(image,result.right_hand_landmarks,mp_holistic.HAND_CONNECTIONS,hand,joins_connections)\n",
    "        #Drawing left hand landmark\n",
    "        mp_drawing.draw_landmarks(image,result.left_hand_landmarks,mp_holistic.HAND_CONNECTIONS,hand,joins_connections)\n",
    "\n",
    "        cv2.imshow('WebCam',image) #stream the frame thought a window\n",
    "        c = cv2.waitKey(1)\n",
    "        if c == 27:#exit fucntion exit using esc\n",
    "            break \n",
    "cap.release()\n",
    "cv2.destroyAllWindows()"
   ]
  },
  {
   "cell_type": "code",
   "execution_count": 4,
   "metadata": {},
   "outputs": [],
   "source": [
    "#starting setting up the csv\n",
    "num_cord= len(result.pose_landmarks.landmark)+len(result.face_landmarks.landmark)   \n",
    "landmarks=['Class']\n",
    "        \n",
    "for val in range(1,num_cord+1):\n",
    "    landmarks +=['x{}'.format(val),'y{}'.format(val),'z{}'.format(val),'v{}'.format(val)]\n",
    "\n",
    "with open('coords.csv',mode='w',newline='') as f :\n",
    "    csv_writer = csv.writer(f, delimiter=',',quotechar='\"',quoting=csv.QUOTE_MINIMAL)\n",
    "    csv_writer.writerow(landmarks)\n",
    "\n"
   ]
  },
  {
   "attachments": {},
   "cell_type": "markdown",
   "metadata": {},
   "source": [
    "### capturing happy inputs"
   ]
  },
  {
   "cell_type": "code",
   "execution_count": 3,
   "metadata": {
    "tags": [
     "outputPrepend"
    ]
   },
   "outputs": [],
   "source": [
    "#initiate holistic mediapipe\n",
    "with mp_holistic.Holistic(min_detection_confidence=0.6,min_tracking_confidence=0.6) as holistic:\n",
    "#live stream webcam feed\n",
    "    while cap.isOpened():\n",
    "\n",
    "        status,frame =cap.read() #capture the frame + status\n",
    "\n",
    "        # Recolor Feed to RGB\n",
    "        image=cv2.cvtColor(frame,cv2.COLOR_BGR2RGB)\n",
    "        image.flags.writeable = False\n",
    "\n",
    "        # Make detection\n",
    "        result=holistic.process(image)\n",
    "\n",
    "        # Recolor back to BRG\n",
    "        image.flags.writeable = True\n",
    "        image = cv2.cvtColor(image,cv2.COLOR_RGB2BGR)\n",
    "\n",
    "        #Drawing face landmark\n",
    "        mp_drawing.draw_landmarks(image,result.face_landmarks,mp_holistic.FACEMESH_TESSELATION,head,joins_connections)\n",
    "        #Drawing pose landmark\n",
    "        mp_drawing.draw_landmarks(image,result.pose_landmarks,mp_holistic.POSE_CONNECTIONS,body,joins_connections)\n",
    "        #Drawing right hand landmark\n",
    "        mp_drawing.draw_landmarks(image,result.right_hand_landmarks,mp_holistic.HAND_CONNECTIONS,hand,joins_connections)\n",
    "        #Drawing left hand landmark\n",
    "        mp_drawing.draw_landmarks(image,result.left_hand_landmarks,mp_holistic.HAND_CONNECTIONS,hand,joins_connections)\n",
    "\n",
    "\n",
    "        # export coordinates\n",
    "        class_name=\"happy\"\n",
    "        try:\n",
    "            #grapping pose landmarks\n",
    "            pose=result.pose_landmarks.landmark\n",
    "            pose_row=list(np.array([[landmark.x,landmark.y,landmark.z,landmark.visibility] for landmark in pose]).flatten())\n",
    "\n",
    "            #grapping face landmarks\n",
    "            face=result.face_landmarks.landmark\n",
    "            face_row=list(np.array([[landmark.x,landmark.y,landmark.z,landmark.visibility] for landmark in face]).flatten())\n",
    "            row=face_row+pose_row\n",
    "            row.insert(0,class_name)\n",
    "            with open('coords.csv',mode='a',newline='') as f :\n",
    "                csv_writer = csv.writer(f, delimiter=',',quotechar='\"',quoting=csv.QUOTE_MINIMAL)\n",
    "                csv_writer.writerow(row)\n",
    "\n",
    "        except:\n",
    "            pass\n",
    "\n",
    "        cv2.imshow('WebCam',image) #stream the frame thought a window\n",
    "        c = cv2.waitKey(1)\n",
    "        if c == 27:#exit fucntion exit using esc\n",
    "            break \n",
    "cap.release()\n",
    "cv2.destroyAllWindows()"
   ]
  },
  {
   "attachments": {},
   "cell_type": "markdown",
   "metadata": {},
   "source": [
    "### capturing the sad input"
   ]
  },
  {
   "cell_type": "code",
   "execution_count": 3,
   "metadata": {
    "tags": []
   },
   "outputs": [],
   "source": [
    "#initiate holistic mediapipe\n",
    "with mp_holistic.Holistic(min_detection_confidence=0.6,min_tracking_confidence=0.6) as holistic:\n",
    "#live stream webcam feed\n",
    "    while cap.isOpened():\n",
    "\n",
    "        status,frame =cap.read() #capture the frame + status\n",
    "\n",
    "        # Recolor Feed to RGB\n",
    "        image=cv2.cvtColor(frame,cv2.COLOR_BGR2RGB)\n",
    "        image.flags.writeable = False\n",
    "\n",
    "        # Make detection\n",
    "        result=holistic.process(image)\n",
    "\n",
    "        # Recolor back to BRG\n",
    "        image.flags.writeable = True\n",
    "        image = cv2.cvtColor(image,cv2.COLOR_RGB2BGR)\n",
    "\n",
    "        #Drawing face landmark\n",
    "        mp_drawing.draw_landmarks(image,result.face_landmarks,mp_holistic.FACEMESH_TESSELATION,head,joins_connections)\n",
    "        #Drawing pose landmark\n",
    "        mp_drawing.draw_landmarks(image,result.pose_landmarks,mp_holistic.POSE_CONNECTIONS,body,joins_connections)\n",
    "        #Drawing right hand landmark\n",
    "        mp_drawing.draw_landmarks(image,result.right_hand_landmarks,mp_holistic.HAND_CONNECTIONS,hand,joins_connections)\n",
    "        #Drawing left hand landmark\n",
    "        mp_drawing.draw_landmarks(image,result.left_hand_landmarks,mp_holistic.HAND_CONNECTIONS,hand,joins_connections)\n",
    "\n",
    "\n",
    "        # export coordinates\n",
    "        class_name=\"sad\"\n",
    "        try:\n",
    "            #grapping pose landmarks\n",
    "            pose=result.pose_landmarks.landmark\n",
    "            pose_row=list(np.array([[landmark.x,landmark.y,landmark.z,landmark.visibility] for landmark in pose]).flatten())\n",
    "\n",
    "            #grapping face landmarks\n",
    "            face=result.face_landmarks.landmark\n",
    "            face_row=list(np.array([[landmark.x,landmark.y,landmark.z,landmark.visibility] for landmark in face]).flatten())\n",
    "            row=face_row+pose_row\n",
    "            row.insert(0,class_name)\n",
    "            with open('coords.csv',mode='a',newline='') as f :\n",
    "                csv_writer = csv.writer(f, delimiter=',',quotechar='\"',quoting=csv.QUOTE_MINIMAL)\n",
    "                csv_writer.writerow(row)\n",
    "\n",
    "        except:\n",
    "            pass\n",
    "\n",
    "        cv2.imshow('WebCam',image) #stream the frame thought a window\n",
    "        c = cv2.waitKey(1)\n",
    "        if c == 27:#exit fucntion exit using esc\n",
    "            break \n",
    "cap.release()\n",
    "cv2.destroyAllWindows()\n"
   ]
  },
  {
   "attachments": {},
   "cell_type": "markdown",
   "metadata": {},
   "source": [
    "### capturing the wakanda forever input"
   ]
  },
  {
   "cell_type": "code",
   "execution_count": 6,
   "metadata": {
    "tags": []
   },
   "outputs": [],
   "source": [
    "#initiate holistic mediapipe\n",
    "with mp_holistic.Holistic(min_detection_confidence=0.6,min_tracking_confidence=0.6) as holistic:\n",
    "#live stream webcam feed\n",
    "    while cap.isOpened():\n",
    "\n",
    "        status,frame =cap.read() #capture the frame + status\n",
    "\n",
    "        # Recolor Feed to RGB\n",
    "        image=cv2.cvtColor(frame,cv2.COLOR_BGR2RGB)\n",
    "        image.flags.writeable = False\n",
    "\n",
    "        # Make detection\n",
    "        result=holistic.process(image)\n",
    "\n",
    "        # Recolor back to BRG\n",
    "        image.flags.writeable = True\n",
    "        image = cv2.cvtColor(image,cv2.COLOR_RGB2BGR)\n",
    "\n",
    "        #Drawing face landmark\n",
    "        mp_drawing.draw_landmarks(image,result.face_landmarks,mp_holistic.FACEMESH_TESSELATION,head,joins_connections)\n",
    "        #Drawing pose landmark\n",
    "        mp_drawing.draw_landmarks(image,result.pose_landmarks,mp_holistic.POSE_CONNECTIONS,body,joins_connections)\n",
    "        #Drawing right hand landmark\n",
    "        mp_drawing.draw_landmarks(image,result.right_hand_landmarks,mp_holistic.HAND_CONNECTIONS,hand,joins_connections)\n",
    "        #Drawing left hand landmark\n",
    "        mp_drawing.draw_landmarks(image,result.left_hand_landmarks,mp_holistic.HAND_CONNECTIONS,hand,joins_connections)\n",
    "\n",
    "\n",
    "        # export coordinates\n",
    "        class_name=\"wakanda forever\"\n",
    "        try:\n",
    "            #grapping pose landmarks\n",
    "            pose=result.pose_landmarks.landmark\n",
    "            pose_row=list(np.array([[landmark.x,landmark.y,landmark.z,landmark.visibility] for landmark in pose]).flatten())\n",
    "\n",
    "            #grapping face landmarks\n",
    "            face=result.face_landmarks.landmark\n",
    "            face_row=list(np.array([[landmark.x,landmark.y,landmark.z,landmark.visibility] for landmark in face]).flatten())\n",
    "            row=face_row+pose_row\n",
    "            row.insert(0,class_name)\n",
    "            with open('coords.csv',mode='a',newline='') as f :\n",
    "                csv_writer = csv.writer(f, delimiter=',',quotechar='\"',quoting=csv.QUOTE_MINIMAL)\n",
    "                csv_writer.writerow(row)\n",
    "\n",
    "        except:\n",
    "            pass\n",
    "\n",
    "        cv2.imshow('WebCam',image) #stream the frame thought a window\n",
    "        c = cv2.waitKey(1)\n",
    "        if c == 27:#exit fucntion exit using esc\n",
    "            break \n",
    "cap.release()\n",
    "cv2.destroyAllWindows()"
   ]
  },
  {
   "attachments": {},
   "cell_type": "markdown",
   "metadata": {},
   "source": [
    "### capturing the peace input"
   ]
  },
  {
   "cell_type": "code",
   "execution_count": 3,
   "metadata": {},
   "outputs": [],
   "source": [
    "#initiate holistic mediapipe\n",
    "with mp_holistic.Holistic(min_detection_confidence=0.6,min_tracking_confidence=0.6) as holistic:\n",
    "#live stream webcam feed\n",
    "    while cap.isOpened():\n",
    "\n",
    "        status,frame =cap.read() #capture the frame + status\n",
    "\n",
    "        # Recolor Feed to RGB\n",
    "        image=cv2.cvtColor(frame,cv2.COLOR_BGR2RGB)\n",
    "        image.flags.writeable = False\n",
    "\n",
    "        # Make detection\n",
    "        result=holistic.process(image)\n",
    "\n",
    "        # Recolor back to BRG\n",
    "        image.flags.writeable = True\n",
    "        image = cv2.cvtColor(image,cv2.COLOR_RGB2BGR)\n",
    "\n",
    "        #Drawing face landmark\n",
    "        mp_drawing.draw_landmarks(image,result.face_landmarks,mp_holistic.FACEMESH_TESSELATION,head,joins_connections)\n",
    "        #Drawing pose landmark\n",
    "        mp_drawing.draw_landmarks(image,result.pose_landmarks,mp_holistic.POSE_CONNECTIONS,body,joins_connections)\n",
    "        #Drawing right hand landmark\n",
    "        mp_drawing.draw_landmarks(image,result.right_hand_landmarks,mp_holistic.HAND_CONNECTIONS,hand,joins_connections)\n",
    "        #Drawing left hand landmark\n",
    "        mp_drawing.draw_landmarks(image,result.left_hand_landmarks,mp_holistic.HAND_CONNECTIONS,hand,joins_connections)\n",
    "\n",
    "\n",
    "        # export coordinates\n",
    "        class_name=\"peace\"\n",
    "        try:\n",
    "            #grapping pose landmarks\n",
    "            pose=result.pose_landmarks.landmark\n",
    "            pose_row=list(np.array([[landmark.x,landmark.y,landmark.z,landmark.visibility] for landmark in pose]).flatten())\n",
    "\n",
    "            #grapping face landmarks\n",
    "            face=result.face_landmarks.landmark\n",
    "            face_row=list(np.array([[landmark.x,landmark.y,landmark.z,landmark.visibility] for landmark in face]).flatten())\n",
    "            row=face_row+pose_row\n",
    "            row.insert(0,class_name)\n",
    "            with open('coords.csv',mode='a',newline='') as f :\n",
    "                csv_writer = csv.writer(f, delimiter=',',quotechar='\"',quoting=csv.QUOTE_MINIMAL)\n",
    "                csv_writer.writerow(row)\n",
    "\n",
    "        except:\n",
    "            pass\n",
    "\n",
    "        cv2.imshow('WebCam',image) #stream the frame thought a window\n",
    "        c = cv2.waitKey(1)\n",
    "        if c == 27:#exit fucntion exit using esc\n",
    "            break \n",
    "cap.release()\n",
    "cv2.destroyAllWindows()"
   ]
  },
  {
   "attachments": {},
   "cell_type": "markdown",
   "metadata": {},
   "source": [
    "### capturing the connecting input"
   ]
  },
  {
   "cell_type": "code",
   "execution_count": 3,
   "metadata": {},
   "outputs": [],
   "source": [
    "#initiate holistic mediapipe\n",
    "with mp_holistic.Holistic(min_detection_confidence=0.6,min_tracking_confidence=0.6) as holistic:\n",
    "#live stream webcam feed\n",
    "    while cap.isOpened():\n",
    "\n",
    "        status,frame =cap.read() #capture the frame + status\n",
    "\n",
    "        # Recolor Feed to RGB\n",
    "        image=cv2.cvtColor(frame,cv2.COLOR_BGR2RGB)\n",
    "        image.flags.writeable = False\n",
    "\n",
    "        # Make detection\n",
    "        result=holistic.process(image)\n",
    "\n",
    "        # Recolor back to BRG\n",
    "        image.flags.writeable = True\n",
    "        image = cv2.cvtColor(image,cv2.COLOR_RGB2BGR)\n",
    "\n",
    "        #Drawing face landmark\n",
    "        mp_drawing.draw_landmarks(image,result.face_landmarks,mp_holistic.FACEMESH_TESSELATION,head,joins_connections)\n",
    "        #Drawing pose landmark\n",
    "        mp_drawing.draw_landmarks(image,result.pose_landmarks,mp_holistic.POSE_CONNECTIONS,body,joins_connections)\n",
    "        #Drawing right hand landmark\n",
    "        mp_drawing.draw_landmarks(image,result.right_hand_landmarks,mp_holistic.HAND_CONNECTIONS,hand,joins_connections)\n",
    "        #Drawing left hand landmark\n",
    "        mp_drawing.draw_landmarks(image,result.left_hand_landmarks,mp_holistic.HAND_CONNECTIONS,hand,joins_connections)\n",
    "\n",
    "\n",
    "        # export coordinates\n",
    "        class_name=\"connecting\"\n",
    "        try:\n",
    "            #grapping pose landmarks\n",
    "            pose=result.pose_landmarks.landmark\n",
    "            pose_row=list(np.array([[landmark.x,landmark.y,landmark.z,landmark.visibility] for landmark in pose]).flatten())\n",
    "\n",
    "            #grapping face landmarks\n",
    "            face=result.face_landmarks.landmark\n",
    "            face_row=list(np.array([[landmark.x,landmark.y,landmark.z,landmark.visibility] for landmark in face]).flatten())\n",
    "            row=face_row+pose_row\n",
    "            row.insert(0,class_name)\n",
    "            with open('coords.csv',mode='a',newline='') as f :\n",
    "                csv_writer = csv.writer(f, delimiter=',',quotechar='\"',quoting=csv.QUOTE_MINIMAL)\n",
    "                csv_writer.writerow(row)\n",
    "\n",
    "        except:\n",
    "            pass\n",
    "\n",
    "        cv2.imshow('WebCam',image) #stream the frame thought a window\n",
    "        c = cv2.waitKey(1)\n",
    "        if c == 27:#exit fucntion exit using esc\n",
    "            break \n",
    "cap.release()\n",
    "cv2.destroyAllWindows()"
   ]
  },
  {
   "attachments": {},
   "cell_type": "markdown",
   "metadata": {},
   "source": [
    "### creating the model  "
   ]
  },
  {
   "cell_type": "code",
   "execution_count": 4,
   "metadata": {},
   "outputs": [],
   "source": [
    "from sklearn.model_selection import train_test_split\n",
    "df= pd.read_csv('coords.csv')\n"
   ]
  },
  {
   "cell_type": "code",
   "execution_count": 5,
   "metadata": {},
   "outputs": [],
   "source": [
    "x=df.drop('Class',axis=1) #features\n",
    "y=df['Class'] #target"
   ]
  },
  {
   "cell_type": "code",
   "execution_count": 6,
   "metadata": {},
   "outputs": [],
   "source": [
    "x_train,x_test,y_train,y_test=train_test_split(x,y,test_size=0.3,random_state=1234)"
   ]
  },
  {
   "cell_type": "code",
   "execution_count": 7,
   "metadata": {},
   "outputs": [],
   "source": [
    "from sklearn.pipeline import make_pipeline\n",
    "from sklearn.preprocessing import StandardScaler\n",
    "from sklearn.linear_model import LogisticRegression,RidgeClassifier\n",
    "from sklearn.ensemble import RandomForestClassifier,GradientBoostingClassifier"
   ]
  },
  {
   "cell_type": "code",
   "execution_count": 8,
   "metadata": {},
   "outputs": [],
   "source": [
    "pipelines = {\n",
    "    'lr':make_pipeline(StandardScaler(), LogisticRegression()),\n",
    "    'rc':make_pipeline(StandardScaler(), RidgeClassifier()),\n",
    "    'rf':make_pipeline(StandardScaler(), RandomForestClassifier()),\n",
    "    'gb':make_pipeline(StandardScaler(), GradientBoostingClassifier()),\n",
    "}"
   ]
  },
  {
   "cell_type": "code",
   "execution_count": 9,
   "metadata": {},
   "outputs": [
    {
     "name": "stderr",
     "output_type": "stream",
     "text": [
      "C:\\Users\\mahdj\\AppData\\Local\\Packages\\PythonSoftwareFoundation.Python.3.10_qbz5n2kfra8p0\\LocalCache\\local-packages\\Python310\\site-packages\\sklearn\\linear_model\\_logistic.py:458: ConvergenceWarning: lbfgs failed to converge (status=1):\n",
      "STOP: TOTAL NO. of ITERATIONS REACHED LIMIT.\n",
      "\n",
      "Increase the number of iterations (max_iter) or scale the data as shown in:\n",
      "    https://scikit-learn.org/stable/modules/preprocessing.html\n",
      "Please also refer to the documentation for alternative solver options:\n",
      "    https://scikit-learn.org/stable/modules/linear_model.html#logistic-regression\n",
      "  n_iter_i = _check_optimize_result(\n"
     ]
    }
   ],
   "source": [
    "fit_models = {}\n",
    "for algo, pipeline in pipelines.items():\n",
    "    model = pipeline.fit(x_train, y_train)\n",
    "    fit_models[algo] = model"
   ]
  },
  {
   "cell_type": "code",
   "execution_count": 10,
   "metadata": {},
   "outputs": [],
   "source": [
    "from sklearn.metrics import accuracy_score\n",
    "import pickle"
   ]
  },
  {
   "cell_type": "code",
   "execution_count": 11,
   "metadata": {},
   "outputs": [
    {
     "name": "stdout",
     "output_type": "stream",
     "text": [
      "lr 1.0\n",
      "rc 1.0\n",
      "rf 0.9962476547842402\n",
      "gb 0.9962476547842402\n"
     ]
    }
   ],
   "source": [
    "for algo,model in fit_models.items():\n",
    "    yhat=model.predict(x_test)\n",
    "    print(algo,accuracy_score(y_test,yhat))"
   ]
  },
  {
   "cell_type": "code",
   "execution_count": 12,
   "metadata": {},
   "outputs": [],
   "source": [
    "with open('body_language.pkl', 'wb') as f:\n",
    "    pickle.dump(fit_models['rf'], f)"
   ]
  },
  {
   "attachments": {},
   "cell_type": "markdown",
   "metadata": {},
   "source": [
    "### deploy the model into applcation"
   ]
  },
  {
   "cell_type": "code",
   "execution_count": 13,
   "metadata": {},
   "outputs": [
    {
     "ename": "FileNotFoundError",
     "evalue": "[Errno 2] No such file or directory: 'D:/Project/body language decoder/body-language-decoder/body_language.pkl'",
     "output_type": "error",
     "traceback": [
      "\u001b[1;31m---------------------------------------------------------------------------\u001b[0m",
      "\u001b[1;31mFileNotFoundError\u001b[0m                         Traceback (most recent call last)",
      "Cell \u001b[1;32mIn[13], line 23\u001b[0m\n\u001b[0;32m     20\u001b[0m cap\u001b[39m.\u001b[39mset(\u001b[39m10\u001b[39m,\u001b[39m100\u001b[39m) \u001b[39m#setting the brightnesse of the frame\u001b[39;00m\n\u001b[0;32m     22\u001b[0m \u001b[39m#initiate the mode of logistic regression\u001b[39;00m\n\u001b[1;32m---> 23\u001b[0m \u001b[39mwith\u001b[39;00m \u001b[39mopen\u001b[39;49m(\u001b[39m'\u001b[39;49m\u001b[39mD:/Project/body language decoder/body-language-decoder/body_language.pkl\u001b[39;49m\u001b[39m'\u001b[39;49m, \u001b[39m'\u001b[39;49m\u001b[39mrb\u001b[39;49m\u001b[39m'\u001b[39;49m) \u001b[39mas\u001b[39;00m f:\n\u001b[0;32m     24\u001b[0m     model \u001b[39m=\u001b[39m pickle\u001b[39m.\u001b[39mload(f)\n\u001b[0;32m     26\u001b[0m \u001b[39m#initiate holistic mediapipe\u001b[39;00m\n",
      "File \u001b[1;32m~\\AppData\\Local\\Packages\\PythonSoftwareFoundation.Python.3.10_qbz5n2kfra8p0\\LocalCache\\local-packages\\Python310\\site-packages\\IPython\\core\\interactiveshell.py:282\u001b[0m, in \u001b[0;36m_modified_open\u001b[1;34m(file, *args, **kwargs)\u001b[0m\n\u001b[0;32m    275\u001b[0m \u001b[39mif\u001b[39;00m file \u001b[39min\u001b[39;00m {\u001b[39m0\u001b[39m, \u001b[39m1\u001b[39m, \u001b[39m2\u001b[39m}:\n\u001b[0;32m    276\u001b[0m     \u001b[39mraise\u001b[39;00m \u001b[39mValueError\u001b[39;00m(\n\u001b[0;32m    277\u001b[0m         \u001b[39mf\u001b[39m\u001b[39m\"\u001b[39m\u001b[39mIPython won\u001b[39m\u001b[39m'\u001b[39m\u001b[39mt let you open fd=\u001b[39m\u001b[39m{\u001b[39;00mfile\u001b[39m}\u001b[39;00m\u001b[39m by default \u001b[39m\u001b[39m\"\u001b[39m\n\u001b[0;32m    278\u001b[0m         \u001b[39m\"\u001b[39m\u001b[39mas it is likely to crash IPython. If you know what you are doing, \u001b[39m\u001b[39m\"\u001b[39m\n\u001b[0;32m    279\u001b[0m         \u001b[39m\"\u001b[39m\u001b[39myou can use builtins\u001b[39m\u001b[39m'\u001b[39m\u001b[39m open.\u001b[39m\u001b[39m\"\u001b[39m\n\u001b[0;32m    280\u001b[0m     )\n\u001b[1;32m--> 282\u001b[0m \u001b[39mreturn\u001b[39;00m io_open(file, \u001b[39m*\u001b[39margs, \u001b[39m*\u001b[39m\u001b[39m*\u001b[39mkwargs)\n",
      "\u001b[1;31mFileNotFoundError\u001b[0m: [Errno 2] No such file or directory: 'D:/Project/body language decoder/body-language-decoder/body_language.pkl'"
     ]
    }
   ],
   "source": [
    "import numpy as np\n",
    "import cv2\n",
    "import mediapipe as mp\n",
    "import pandas as pd\n",
    "import pickle\n",
    "\n",
    "mp_drawing=mp.solutions.drawing_utils\n",
    "mp_holistic= mp.solutions.holistic\n",
    "\n",
    "#initiate drawing Spec\n",
    "hand=mp_drawing.DrawingSpec(color=(200,0,50),thickness=2,circle_radius=2)\n",
    "head=mp_drawing.DrawingSpec(color=(50,200,100),thickness=1,circle_radius=1)\n",
    "body=mp_drawing.DrawingSpec(color=(0,50,200),thickness=2,circle_radius=2)\n",
    "joins_connections=mp_drawing.DrawingSpec(color=(119,88,19),thickness=2,circle_radius=2)\n",
    "\n",
    "#openning and setting the webcam \n",
    "cap=cv2.VideoCapture(0)\n",
    "cap.set(3,640) #setting the width of the frame\n",
    "cap.set(4,480) #setting the height of the frame\n",
    "cap.set(10,100) #setting the brightnesse of the frame\n",
    "\n",
    "#initiate the mode of logistic regression\n",
    "with open('D:/Project/body language decoder/body-language-decoder/body_language.pkl', 'rb') as f:\n",
    "    model = pickle.load(f)\n",
    "\n",
    "#initiate holistic mediapipe\n",
    "with mp_holistic.Holistic(min_detection_confidence=0.6,min_tracking_confidence=0.6) as holistic:\n",
    "\n",
    "    #live stream webcam feed\n",
    "    while cap.isOpened():\n",
    "        status,frame =cap.read() #capture the frame + status\n",
    "\n",
    "        # Recolor Feed to RGB\n",
    "        image=cv2.cvtColor(frame,cv2.COLOR_BGR2RGB)\n",
    "        image.flags.writeable = False\n",
    "        # Make detection\n",
    "        result=holistic.process(image)\n",
    "     \n",
    "        \n",
    "        # Recolor back to BRG\n",
    "        image.flags.writeable = True\n",
    "        image = cv2.cvtColor(image,cv2.COLOR_RGB2BGR)\n",
    "\n",
    "        # making prediction about body language\n",
    "        try:\n",
    "            #grapping pose landmarks\n",
    "            pose=result.pose_landmarks.landmark\n",
    "            pose_row=list(np.array([[landmark.x,landmark.y,landmark.z,landmark.visibility] for landmark in pose]).flatten())\n",
    "\n",
    "            #grapping face landmarks\n",
    "            face=result.face_landmarks.landmark\n",
    "            face_row=list(np.array([[landmark.x,landmark.y,landmark.z,landmark.visibility] for landmark in face]).flatten())\n",
    "            row=face_row+pose_row\n",
    "            x=pd.DataFrame([row])\n",
    "            body_language_class=model.predict(x)[0]\n",
    "            body_language_proba=model.predict_proba(x)[0]\n",
    "            # Grab ear coords\n",
    "            coords = tuple(np.multiply(\n",
    "                            np.array(\n",
    "                                (result.pose_landmarks.landmark[mp_holistic.PoseLandmark.LEFT_EAR].x, \n",
    "                                 result.pose_landmarks.landmark[mp_holistic.PoseLandmark.LEFT_EAR].y))\n",
    "                        , [640,480]).astype(int))\n",
    "            \n",
    "            cv2.rectangle(image, \n",
    "                          (coords[0], coords[1]+5), \n",
    "                          (coords[0]+len(body_language_class)*20, coords[1]-30), \n",
    "                          (245, 117, 16), -1)\n",
    "            cv2.putText(image, body_language_class, coords, \n",
    "                        cv2.FONT_HERSHEY_SIMPLEX, 1, (255, 255, 255), 2, cv2.LINE_AA)\n",
    "            \n",
    "            # Get status box\n",
    "            cv2.rectangle(image, (0,0), (250, 60), (245, 117, 16), -1)\n",
    "            \n",
    "            # Display Class\n",
    "            cv2.putText(image, 'CLASS'\n",
    "                        , (95,12), cv2.FONT_HERSHEY_SIMPLEX, 0.5, (0, 0, 0), 1, cv2.LINE_AA)\n",
    "            cv2.putText(image, body_language_class.split(' ')[0]\n",
    "                        , (90,40), cv2.FONT_HERSHEY_SIMPLEX, 1, (255, 255, 255), 2, cv2.LINE_AA)\n",
    "            \n",
    "            # Display Probability\n",
    "            cv2.putText(image, 'PROB'\n",
    "                        , (15,12), cv2.FONT_HERSHEY_SIMPLEX, 0.5, (0, 0, 0), 1, cv2.LINE_AA)\n",
    "            cv2.putText(image, str(round(body_language_proba[np.argmax(body_language_proba)],2))\n",
    "                        , (10,40), cv2.FONT_HERSHEY_SIMPLEX, 1, (255, 255, 255), 2, cv2.LINE_AA)\n",
    "        except:\n",
    "            pass\n",
    "        \n",
    "\n",
    "        #Drawing face landmark\n",
    "        mp_drawing.draw_landmarks(image,result.face_landmarks,mp_holistic.FACEMESH_TESSELATION,head,head)\n",
    "        #Drawing pose landmark\n",
    "        mp_drawing.draw_landmarks(image,result.pose_landmarks,mp_holistic.POSE_CONNECTIONS,body,joins_connections)\n",
    "        #Drawing right hand landmark\n",
    "        mp_drawing.draw_landmarks(image,result.right_hand_landmarks,mp_holistic.HAND_CONNECTIONS,hand,joins_connections)\n",
    "        #Drawing left hand landmark\n",
    "        mp_drawing.draw_landmarks(image,result.left_hand_landmarks,mp_holistic.HAND_CONNECTIONS,hand,joins_connections)\n",
    "\n",
    "        cv2.imshow('WebCam',image) #stream the frame thought a window\n",
    "        c = cv2.waitKey(1)\n",
    "        if c == 27:#exit fucntion exit using esc\n",
    "            break \n",
    "cap.release()\n",
    "cv2.destroyAllWindows()"
   ]
  }
 ],
 "metadata": {
  "kernelspec": {
   "display_name": "Python 3",
   "language": "python",
   "name": "python3"
  },
  "language_info": {
   "codemirror_mode": {
    "name": "ipython",
    "version": 3
   },
   "file_extension": ".py",
   "mimetype": "text/x-python",
   "name": "python",
   "nbconvert_exporter": "python",
   "pygments_lexer": "ipython3",
   "version": "3.10.9"
  },
  "orig_nbformat": 4,
  "vscode": {
   "interpreter": {
    "hash": "1d881aeaef1ef3aab987bdbb086fb2aaa1cf26921d7277f23c40ea6ac8fd6c71"
   }
  }
 },
 "nbformat": 4,
 "nbformat_minor": 2
}
